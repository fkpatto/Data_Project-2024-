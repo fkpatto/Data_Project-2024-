{
 "cells": [
  {
   "cell_type": "code",
   "execution_count": 1,
   "id": "267da693-7113-436c-9e8b-b5c5db8dd7ac",
   "metadata": {},
   "outputs": [],
   "source": [
    "import pandas as pd\n",
    "import matplotlib.pyplot as plt\n",
    "import seaborn as sns\n",
    "import numpy as np"
   ]
  },
  {
   "cell_type": "code",
   "execution_count": 2,
   "id": "2a9da923-1ec9-4ffc-bd31-5ca0e2b7ec12",
   "metadata": {},
   "outputs": [],
   "source": [
    "df=pd.read_csv(r\"C:\\Users\\emkay\\Downloads\\WAD\\car_prices.csv\")\n",
    "df"
   ]
  },
  {
   "cell_type": "code",
   "execution_count": null,
   "id": "ba9d3672-bedf-4769-b49f-af60b1c0a3c0",
   "metadata": {},
   "outputs": [],
   "source": [
    "# Detect missing values (NaN)\n",
    "missing_values = df.isnull().sum()\n",
    "print(\"Missing values in each column:\\n\", missing_values)\n",
    "\n",
    "# Detect rows with missing values\n",
    "rows_with_nan = df[df.isnull().any(axis=1)]\n",
    "print(\"Rows with missing values:\\n\", rows_with_nan)\n"
   ]
  },
  {
   "cell_type": "code",
   "execution_count": null,
   "id": "5d1c974f-d4d9-40bd-9c79-110bac96d6f6",
   "metadata": {},
   "outputs": [],
   "source": [
    "#deleting entries with missing values & filling entries with the mean\n",
    "\n",
    "df['odometer'] = df['odometer'].fillna(df['odometer'].mean())\n",
    "df['mmr'] = df['mmr'].fillna(df['mmr'].mean())\n",
    "df['sellingprice'] = df['sellingprice'].fillna(df['sellingprice'].mean())\n",
    "df['condition'] = df['condition'].fillna(df['condition'].mean())\n",
    "df['make'] = df['make'].fillna(\"unknown\")\n",
    "df['model'] = df['model'].fillna(\"unknown\")\n",
    "df['trim'] = df['trim'].fillna(\"unknown\")\n",
    "df['body'] = df['body'].fillna(\"unknown\")\n",
    "df['transmission'] = df['transmission'].fillna(\"unknown\")\n",
    "df['color'] = df['color'].fillna(\"unknown\")\n",
    "df['interior'] = df['interior'].fillna(\"unknown\")\n",
    "df['saledate'] = df['saledate'].fillna(\"unknown\")\n",
    "\n",
    "\n",
    "\n",
    "df = df.dropna(subset=['vin'])\n",
    "\n",
    "print(df.isnull().sum())"
   ]
  },
  {
   "cell_type": "code",
   "execution_count": null,
   "id": "c75bff2d-b645-4025-9cc7-c218ca26aea5",
   "metadata": {},
   "outputs": [],
   "source": [
    "#Checking for duplicate values\n",
    "duplicate_rows = df[df.duplicated()]\n",
    "print(\"Duplicate rows:\\n\", duplicate_rows)\n"
   ]
  },
  {
   "cell_type": "code",
   "execution_count": null,
   "id": "89a86342-d711-43ba-890f-f0d080df0317",
   "metadata": {},
   "outputs": [],
   "source": [
    "#Detecting the presence of Outliers\n",
    "from scipy import stats\n",
    "\n",
    "\n",
    "# Calculate the z-scores for each feature in the DataFrame\n",
    "z_scores = np.abs(stats.zscore(df.select_dtypes(include=[np.number])))\n",
    "\n",
    "# Find rows where the z-score is above a threshold (commonly 3)\n",
    "outliers = (z_scores > 3).any(axis=1)\n",
    "print(\"Outliers detected:\\n\", df[outliers])"
   ]
  },
  {
   "cell_type": "code",
   "execution_count": null,
   "id": "f94d4aaf-c8c7-4efb-9704-a866e6a40c5e",
   "metadata": {},
   "outputs": [],
   "source": [
    "#Visualisation of Outliers\n",
    "import matplotlib.pyplot as plt\n",
    "\n",
    "# Create box plots for the numeric columns\n",
    "plt.figure(figsize=(12, 6))\n",
    "for i, column in enumerate(['odometer', 'mmr', 'sellingprice', 'condition'], 1):\n",
    "    plt.subplot(2, 2, i)\n",
    "    plt.boxplot(df[column])\n",
    "    plt.title(column)\n",
    "plt.tight_layout()\n",
    "plt.show()\n"
   ]
  },
  {
   "cell_type": "code",
   "execution_count": null,
   "id": "bce449e6-a4b1-4d81-8257-c68204e8be1f",
   "metadata": {},
   "outputs": [],
   "source": [
    "# Define a function to remove outliers\n",
    "def remove_outliers(df, column):\n",
    "    Q1 = df[column].quantile(0.25)\n",
    "    Q3 = df[column].quantile(0.75)\n",
    "    IQR = Q3 - Q1\n",
    "    lower_bound = Q1 - 1.5 * IQR\n",
    "    upper_bound = Q3 + 1.5 * IQR\n",
    "    return df[(df[column] >= lower_bound) & (df[column] <= upper_bound)]\n",
    "\n",
    "# Remove outliers from 'odometer', 'mmr', and 'condition'\n",
    "for column in ['odometer', 'mmr', 'condition']:\n",
    "    df = remove_outliers(df, column)\n",
    "\n",
    "# Check the shape of the DataFrame after removing outliers\n",
    "print(\"DataFrame shape after removing outliers:\", df.shape)\n"
   ]
  },
  {
   "cell_type": "code",
   "execution_count": null,
   "id": "762fb1ea-c809-4dd7-94ca-f2d8d98d9441",
   "metadata": {},
   "outputs": [],
   "source": [
    "#Visualisation with Outliers Removed\n",
    "import matplotlib.pyplot as plt\n",
    "\n",
    "# Create box plots for the numeric columns\n",
    "plt.figure(figsize=(12, 6))\n",
    "for i, column in enumerate(['odometer', 'mmr', 'sellingprice', 'condition'], 1):\n",
    "    plt.subplot(2, 2, i)\n",
    "    plt.boxplot(df[column])\n",
    "    plt.title(column)\n",
    "plt.tight_layout()\n",
    "plt.show()\n"
   ]
  },
  {
   "cell_type": "code",
   "execution_count": null,
   "id": "cd337e22-45ca-43bb-b8ce-18db40352391",
   "metadata": {},
   "outputs": [],
   "source": [
    "#Checking for Nan values\n",
    "nan_values = df.isna().sum()\n",
    "print(\"NaN values in each column:\\n\", nan_values)\n"
   ]
  }
 ],
 "metadata": {
  "kernelspec": {
   "display_name": "Python 3 (ipykernel)",
   "language": "python",
   "name": "python3"
  },
  "language_info": {
   "codemirror_mode": {
    "name": "ipython",
    "version": 3
   },
   "file_extension": ".py",
   "mimetype": "text/x-python",
   "name": "python",
   "nbconvert_exporter": "python",
   "pygments_lexer": "ipython3",
   "version": "3.12.4"
  }
 },
 "nbformat": 4,
 "nbformat_minor": 5
}
